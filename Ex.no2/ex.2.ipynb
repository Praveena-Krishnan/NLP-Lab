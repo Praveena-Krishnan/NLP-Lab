{
 "cells": [
  {
   "cell_type": "code",
   "execution_count": 2,
   "id": "7a2fade0",
   "metadata": {},
   "outputs": [],
   "source": [
    "import nltk\n",
    "from nltk.tokenize import word_tokenize\n",
    "from nltk.stem import PorterStemmer"
   ]
  },
  {
   "cell_type": "code",
   "execution_count": 6,
   "id": "cb8abb6b",
   "metadata": {},
   "outputs": [
    {
     "name": "stderr",
     "output_type": "stream",
     "text": [
      "[nltk_data] Downloading package punkt to\n",
      "[nltk_data]     C:\\Users\\Praveena\\AppData\\Roaming\\nltk_data...\n",
      "[nltk_data]   Package punkt is already up-to-date!\n",
      "[nltk_data] Downloading package wordnet to\n",
      "[nltk_data]     C:\\Users\\Praveena\\AppData\\Roaming\\nltk_data...\n",
      "[nltk_data]   Package wordnet is already up-to-date!\n"
     ]
    },
    {
     "data": {
      "text/plain": [
       "True"
      ]
     },
     "execution_count": 6,
     "metadata": {},
     "output_type": "execute_result"
    }
   ],
   "source": [
    "nltk.download('punkt')\n",
    "nltk.download('wordnet')"
   ]
  },
  {
   "cell_type": "code",
   "execution_count": 3,
   "id": "0d9d2d56",
   "metadata": {},
   "outputs": [
    {
     "name": "stdout",
     "output_type": "stream",
     "text": [
      "['Artificial', 'intelligence', '(', 'AI', ')', 'has', 'transformed', 'the', 'way', 'we', 'live', ',', 'work', ',', 'and', 'interact', 'with', 'technology', '.', 'In', 'recent', 'years', ',', 'advancements', 'in', 'machine', 'learning', ',', 'natural', 'language', 'processing', ',', 'and', 'computer', 'vision', 'have', 'led', 'to', 'remarkable', 'innovations', 'in', 'various', 'fields', '.', 'AI-powered', 'applications', 'such', 'as', 'virtual', 'assistants', ',', 'recommendation', 'systems', ',', 'and', 'autonomous', 'vehicles', 'have', 'become', 'integral', 'to', 'our', 'daily', 'lives', '.']\n",
      "['The', 'integration', 'of', 'AI', 'in', 'healthcare', 'has', 'revolutionized', 'patient', 'care', 'by', 'enabling', 'early', 'diagnosis', 'and', 'personalized', 'treatment', 'plans', '.', 'AI', 'algorithms', 'can', 'analyze', 'medical', 'images', ',', 'detect', 'anomalies', ',', 'and', 'predict', 'patient', 'outcomes', 'with', 'unprecedented', 'accuracy', '.', 'Similarly', ',', 'the', 'use', 'of', 'AI', 'in', 'education', 'has', 'personalized', 'learning', 'experiences', 'for', 'students', ',', 'helping', 'them', 'achieve', 'their', 'goals', 'more', 'effectively', '.']\n",
      "['In', 'the', 'business', 'sector', ',', 'AI-driven', 'analytics', 'provide', 'valuable', 'insights', 'into', 'consumer', 'behavior', ',', 'enabling', 'companies', 'to', 'optimize', 'their', 'strategies', 'and', 'enhance', 'customer', 'experiences', '.', 'Additionally', ',', 'AI', 'has', 'contributed', 'significantly', 'to', 'environmental', 'conservation', 'efforts', 'by', 'monitoring', 'climate', 'change', ',', 'managing', 'natural', 'resources', ',', 'and', 'promoting', 'sustainable', 'practices', '.']\n",
      "['Despite', 'its', 'numerous', 'benefits', ',', 'AI', 'raises', 'ethical', 'concerns', ',', 'such', 'as', 'data', 'privacy', ',', 'job', 'displacement', ',', 'and', 'algorithmic', 'bias', '.', 'It', 'is', 'essential', 'to', 'address', 'these', 'challenges', 'responsibly', 'to', 'ensure', 'that', 'AI', 'technologies', 'benefit', 'society', 'as', 'a', 'whole', '.', 'As', 'AI', 'continues', 'to', 'evolve', ',', 'it', 'holds', 'the', 'potential', 'to', 'shape', 'a', 'future', 'that', 'is', 'more', 'efficient', ',', 'equitable', ',', 'and', 'sustainable', 'for', 'everyone.|']\n"
     ]
    }
   ],
   "source": [
    "#processing the document\n",
    "file_path=\"sampledoc.txt\"\n",
    "with open(file_path ,'r') as file:\n",
    "    document=file.read()\n",
    "\n",
    "lines=document.split('\\n')\n",
    "token_list=[]\n",
    "\n",
    "for line in lines:\n",
    "    tokens=word_tokenize(line)\n",
    "    token_list.append(tokens)\n",
    "\n",
    "for i in token_list:\n",
    "    print(i)\n",
    "    "
   ]
  },
  {
   "cell_type": "code",
   "execution_count": 5,
   "id": "59305035",
   "metadata": {},
   "outputs": [
    {
     "name": "stdout",
     "output_type": "stream",
     "text": [
      "['artifici', 'intellig', '(', 'ai', ')', 'ha', 'transform', 'the', 'way', 'we', 'live', ',', 'work', ',', 'and', 'interact', 'with', 'technolog', '.', 'in', 'recent', 'year', ',', 'advanc', 'in', 'machin', 'learn', ',', 'natur', 'languag', 'process', ',', 'and', 'comput', 'vision', 'have', 'led', 'to', 'remark', 'innov', 'in', 'variou', 'field', '.', 'ai-pow', 'applic', 'such', 'as', 'virtual', 'assist', ',', 'recommend', 'system', ',', 'and', 'autonom', 'vehicl', 'have', 'becom', 'integr', 'to', 'our', 'daili', 'live', '.']\n",
      "['the', 'integr', 'of', 'ai', 'in', 'healthcar', 'ha', 'revolution', 'patient', 'care', 'by', 'enabl', 'earli', 'diagnosi', 'and', 'person', 'treatment', 'plan', '.', 'ai', 'algorithm', 'can', 'analyz', 'medic', 'imag', ',', 'detect', 'anomali', ',', 'and', 'predict', 'patient', 'outcom', 'with', 'unpreced', 'accuraci', '.', 'similarli', ',', 'the', 'use', 'of', 'ai', 'in', 'educ', 'ha', 'person', 'learn', 'experi', 'for', 'student', ',', 'help', 'them', 'achiev', 'their', 'goal', 'more', 'effect', '.']\n",
      "['in', 'the', 'busi', 'sector', ',', 'ai-driven', 'analyt', 'provid', 'valuabl', 'insight', 'into', 'consum', 'behavior', ',', 'enabl', 'compani', 'to', 'optim', 'their', 'strategi', 'and', 'enhanc', 'custom', 'experi', '.', 'addit', ',', 'ai', 'ha', 'contribut', 'significantli', 'to', 'environment', 'conserv', 'effort', 'by', 'monitor', 'climat', 'chang', ',', 'manag', 'natur', 'resourc', ',', 'and', 'promot', 'sustain', 'practic', '.']\n",
      "['despit', 'it', 'numer', 'benefit', ',', 'ai', 'rais', 'ethic', 'concern', ',', 'such', 'as', 'data', 'privaci', ',', 'job', 'displac', ',', 'and', 'algorithm', 'bia', '.', 'it', 'is', 'essenti', 'to', 'address', 'these', 'challeng', 'respons', 'to', 'ensur', 'that', 'ai', 'technolog', 'benefit', 'societi', 'as', 'a', 'whole', '.', 'as', 'ai', 'continu', 'to', 'evolv', ',', 'it', 'hold', 'the', 'potenti', 'to', 'shape', 'a', 'futur', 'that', 'is', 'more', 'effici', ',', 'equit', ',', 'and', 'sustain', 'for', 'everyone.|']\n"
     ]
    }
   ],
   "source": [
    "stemmer= PorterStemmer()\n",
    "for i , tokens in enumerate(token_list):   \n",
    "    stemmed_tokens = [stemmer.stem(token) for token in tokens]\n",
    "    print(stemmed_tokens)"
   ]
  },
  {
   "cell_type": "code",
   "execution_count": 23,
   "id": "b64eabfe",
   "metadata": {},
   "outputs": [
    {
     "name": "stdout",
     "output_type": "stream",
     "text": [
      "For\n",
      "a\n",
      "sentence\n",
      "contain\n",
      "word\n",
      "like\n",
      "visit\n",
      ",\n",
      "visitor\n",
      ",\n",
      "visit\n",
      ",\n",
      "visit\n",
      ".\n"
     ]
    }
   ],
   "source": [
    "\n",
    "from nltk.stem import WordNetLemmatizer\n",
    "#nltk.download('averaged_perceptron_tagger')\n",
    "from nltk import pos_tag\n",
    "from nltk.corpus import wordnet\n",
    "\n",
    "line=\"For a sentence containing words like visit, visitor, visiting, visited.\"\n",
    "my_tokens=word_tokenize(line)\n",
    "pos=pos_tag(my_tokens)\n",
    "\n",
    "# create an object of class WordNetLemmatizer\n",
    "lemmatizer = WordNetLemmatizer()\n",
    "\n",
    "\n",
    "for i in my_tokens:\n",
    "    print(lemmatizer.lemmatize(i,wordnet.VERB))"
   ]
  },
  {
   "cell_type": "code",
   "execution_count": 29,
   "id": "ee49bc19",
   "metadata": {},
   "outputs": [
    {
     "name": "stderr",
     "output_type": "stream",
     "text": [
      "[nltk_data] Downloading package stopwords to\n",
      "[nltk_data]     C:\\Users\\Praveena\\AppData\\Roaming\\nltk_data...\n",
      "[nltk_data]   Package stopwords is already up-to-date!\n"
     ]
    },
    {
     "data": {
      "text/plain": [
       "'Artificial intelligence ( AI ) transformed way live , work , interact technology . In recent years , advancements machine learning , natural language processing , computer vision led remarkable innovations various fields . AI-powered applications virtual assistants , recommendation systems , autonomous vehicles become integral daily lives . The integration AI healthcare revolutionized patient care enabling early diagnosis personalized treatment plans . AI algorithms analyze medical images , detect anomalies , predict patient outcomes unprecedented accuracy . Similarly , use AI education personalized learning experiences students , helping achieve goals effectively . In business sector , AI-driven analytics provide valuable insights consumer behavior , enabling companies optimize strategies enhance customer experiences . Additionally , AI contributed significantly environmental conservation efforts monitoring climate change , managing natural resources , promoting sustainable practices . Despite numerous benefits , AI raises ethical concerns , data privacy , job displacement , algorithmic bias . It essential address challenges responsibly ensure AI technologies benefit society whole . As AI continues evolve , holds potential shape future efficient , equitable , sustainable everyone.|'"
      ]
     },
     "execution_count": 29,
     "metadata": {},
     "output_type": "execute_result"
    }
   ],
   "source": [
    "from nltk.corpus import stopwords\n",
    "nltk.download('stopwords')\n",
    "stopwords_default = stopwords.words('english')\n",
    "\n",
    "word_token=word_tokenize(document)\n",
    "clean_text = [word for word in word_token if not word in stopwords_default]\n",
    "' '.join(clean_text)"
   ]
  },
  {
   "cell_type": "code",
   "execution_count": null,
   "id": "de1e117c",
   "metadata": {},
   "outputs": [],
   "source": []
  }
 ],
 "metadata": {
  "kernelspec": {
   "display_name": "base",
   "language": "python",
   "name": "python3"
  },
  "language_info": {
   "codemirror_mode": {
    "name": "ipython",
    "version": 3
   },
   "file_extension": ".py",
   "mimetype": "text/x-python",
   "name": "python",
   "nbconvert_exporter": "python",
   "pygments_lexer": "ipython3",
   "version": "3.12.2"
  }
 },
 "nbformat": 4,
 "nbformat_minor": 5
}
