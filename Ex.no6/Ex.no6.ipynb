{
 "cells": [
  {
   "cell_type": "code",
   "execution_count": 1,
   "metadata": {},
   "outputs": [],
   "source": [
    "import nltk\n",
    "from nltk.tokenize import word_tokenize, TreebankWordTokenizer\n",
    "from nltk.corpus import gutenberg\n",
    "from nltk.stem import PorterStemmer\n",
    "import re\n",
    "from collections import Counter"
   ]
  },
  {
   "cell_type": "code",
   "execution_count": 2,
   "metadata": {},
   "outputs": [
    {
     "name": "stderr",
     "output_type": "stream",
     "text": [
      "[nltk_data] Downloading package gutenberg to\n",
      "[nltk_data]     C:\\Users\\Praveena\\AppData\\Roaming\\nltk_data...\n",
      "[nltk_data]   Package gutenberg is already up-to-date!\n",
      "[nltk_data] Downloading package punkt to\n",
      "[nltk_data]     C:\\Users\\Praveena\\AppData\\Roaming\\nltk_data...\n",
      "[nltk_data]   Package punkt is already up-to-date!\n"
     ]
    },
    {
     "data": {
      "text/plain": [
       "True"
      ]
     },
     "execution_count": 2,
     "metadata": {},
     "output_type": "execute_result"
    }
   ],
   "source": [
    "# Download necessary NLTK data\n",
    "nltk.download('gutenberg')\n",
    "nltk.download('punkt')"
   ]
  },
  {
   "cell_type": "code",
   "execution_count": 3,
   "metadata": {},
   "outputs": [
    {
     "name": "stdout",
     "output_type": "stream",
     "text": [
      "Loaded Shakespeare Text Sample:\n",
      "[The Tragedie of Hamlet by William Shakespeare 1599]\n",
      "\n",
      "\n",
      "Actus Primus. Scoena Prima.\n",
      "\n",
      "Enter Barnardo and Francisco two Centinels.\n",
      "\n",
      "  Barnardo. Who's there?\n",
      "  Fran. Nay answer me: Stand & vnfold\n",
      "your sel\n"
     ]
    }
   ],
   "source": [
    "# 1. Load the Shakespeare text corpus (using Gutenberg from NLTK)\n",
    "shakespeare_text = gutenberg.raw('shakespeare-hamlet.txt')\n",
    "print(\"Loaded Shakespeare Text Sample:\")\n",
    "print(shakespeare_text[:200])  # Print the first 500 characters"
   ]
  },
  {
   "cell_type": "code",
   "execution_count": 4,
   "metadata": {},
   "outputs": [
    {
     "name": "stdout",
     "output_type": "stream",
     "text": [
      "\n",
      "Tokenizing using the Penn Treebank tokenizer...\n",
      "['[', 'The', 'Tragedie', 'of', 'Hamlet', 'by', 'William', 'Shakespeare', '1599', ']', 'Actus', 'Primus.', 'Scoena', 'Prima.', 'Enter', 'Barnardo', 'and', 'Francisco', 'two', 'Centinels.']\n"
     ]
    }
   ],
   "source": [
    "# 2. Tokenize using the Penn Treebank tokenizer\n",
    "print(\"\\nTokenizing using the Penn Treebank tokenizer...\")\n",
    "tokenizer = TreebankWordTokenizer()\n",
    "tokens = tokenizer.tokenize(shakespeare_text)\n",
    "print(tokens[:20])  # Print first 20 tokens"
   ]
  },
  {
   "cell_type": "code",
   "execution_count": 5,
   "metadata": {},
   "outputs": [],
   "source": [
    "# Function to perform Byte Pair Encoding (BPE)\n",
    "def byte_pair_encoding(tokens, num_merges):\n",
    "    vocab = Counter(tokens)\n",
    "    bpe_codes = {}\n",
    "\n",
    "    def get_stats(vocab):\n",
    "        pairs = Counter()\n",
    "        for word, freq in vocab.items():\n",
    "            symbols = word.split()\n",
    "            for i in range(len(symbols) - 1):\n",
    "                pairs[symbols[i], symbols[i + 1]] += freq\n",
    "        return pairs\n",
    "\n",
    "    def merge_vocab(pair, vocab):\n",
    "        bigram = re.escape(' '.join(pair))\n",
    "        pattern = re.compile(r'(?<!\\S)' + bigram + r'(?!\\S)')\n",
    "        new_vocab = {}\n",
    "        for word in vocab:\n",
    "            w_out = pattern.sub(''.join(pair), word)\n",
    "            new_vocab[w_out] = vocab[word]\n",
    "        return new_vocab\n",
    "\n",
    "    for i in range(num_merges):\n",
    "        pairs = get_stats(vocab)\n",
    "        if not pairs:\n",
    "            break\n",
    "        best = max(pairs, key=pairs.get)\n",
    "        vocab = merge_vocab(best, vocab)\n",
    "        bpe_codes[best] = i\n",
    "\n",
    "    return vocab, bpe_codes"
   ]
  },
  {
   "cell_type": "code",
   "execution_count": 6,
   "metadata": {},
   "outputs": [],
   "source": [
    "# Example usage of BPE\n",
    "token_pairs = [' '.join(list(token)) for token in tokens]\n",
    "bpe_vocab, bpe_codes = byte_pair_encoding(token_pairs, 100)"
   ]
  },
  {
   "cell_type": "code",
   "execution_count": 7,
   "metadata": {},
   "outputs": [],
   "source": [
    "stemmer=PorterStemmer()\n",
    "stemmed_tokens=[stemmer.stem(token) for token in tokens]"
   ]
  },
  {
   "cell_type": "code",
   "execution_count": 8,
   "metadata": {},
   "outputs": [
    {
     "name": "stdout",
     "output_type": "stream",
     "text": [
      "First 20 tokens: ['[', 'The', 'Tragedie', 'of', 'Hamlet', 'by', 'William', 'Shakespeare', '1599', ']', 'Actus', 'Primus.', 'Scoena', 'Prima.', 'Enter', 'Barnardo', 'and', 'Francisco', 'two', 'Centinels.']\n",
      "First 20 stemmed tokens: ['[', 'the', 'tragedi', 'of', 'hamlet', 'by', 'william', 'shakespear', '1599', ']', 'actu', 'primus.', 'scoena', 'prima.', 'enter', 'barnardo', 'and', 'francisco', 'two', 'centinels.']\n",
      "BPE Vocabulary Sample: [('[', 6), ('The', 133), ('T ra g ed i e', 3), ('of', 572), ('Ham let', 78), ('b y', 90), ('W i ll i am', 1), ('S ha k es pe are', 1), ('1 5 9 9', 1), (']', 6)]\n"
     ]
    }
   ],
   "source": [
    "# Print results\n",
    "print(\"First 20 tokens:\", tokens[:20])\n",
    "print(\"First 20 stemmed tokens:\", stemmed_tokens[:20])\n",
    "print(\"BPE Vocabulary Sample:\", list(bpe_vocab.items())[:10])\n"
   ]
  },
  {
   "cell_type": "code",
   "execution_count": null,
   "metadata": {},
   "outputs": [],
   "source": []
  }
 ],
 "metadata": {
  "kernelspec": {
   "display_name": "Python (myenv)",
   "language": "python",
   "name": "myenv"
  },
  "language_info": {
   "codemirror_mode": {
    "name": "ipython",
    "version": 3
   },
   "file_extension": ".py",
   "mimetype": "text/x-python",
   "name": "python",
   "nbconvert_exporter": "python",
   "pygments_lexer": "ipython3",
   "version": "3.11.4"
  }
 },
 "nbformat": 4,
 "nbformat_minor": 2
}
