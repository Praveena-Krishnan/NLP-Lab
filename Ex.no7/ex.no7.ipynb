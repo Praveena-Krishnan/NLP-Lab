{
 "cells": [
  {
   "cell_type": "code",
   "execution_count": 1,
   "metadata": {},
   "outputs": [],
   "source": [
    "import re\n",
    "\n",
    "# Define substitution patterns and responses\n",
    "substitutions = [\n",
    "    (r'\\b[Ii] need\\b', \"Why do you need\"),\n",
    "    (r'\\b[Ii] want\\b', \"Why do you want\"),\n",
    "    (r'\\b[Ii] can\\b', \"What makes you think you can\"),\n",
    "    (r'\\b[Cc]an you\\b', \"What makes you think I can\"),\n",
    "    (r'\\b[Ii] feel\\b', \"Why do you feel\"),\n",
    "    (r'\\b([Yy]ou|[Uu]) should\\b', \"Why do you think I should\"),\n",
    "    (r'\\b[Ii] think\\b', \"Why do you think\"),\n",
    "    (r'\\b([Ww]hy|[Hh]ow)\\b', \"What makes you ask that\"),\n",
    "    (r'\\b([Hh]elp me|assist me|support me)\\b', \"In what way would you like me to help\"),\n",
    "    (r'\\b([Aa]ctivity|[Ee]xercise|[Ww]orkout)\\b', \"What kind of {1} are you interested in\"),\n",
    "    (r'\\b([Dd]iet|[Ee]ating)\\b', \"Tell me about your current {1}\"),\n",
    "]\n"
   ]
  },
  {
   "cell_type": "code",
   "execution_count": 2,
   "metadata": {},
   "outputs": [],
   "source": [
    "# Default responses\n",
    "default_responses = [\n",
    "    \"Interesting, tell me more.\",\n",
    "    \"What makes you say that?\",\n",
    "    \"How do you feel about that?\",\n",
    "    \"Could you elaborate on that?\",\n",
    "    \"Why do you think so?\",\n",
    "    \"That's intriguing. What else?\",\n",
    "]"
   ]
  },
  {
   "cell_type": "code",
   "execution_count": 3,
   "metadata": {},
   "outputs": [],
   "source": [
    "def substitute_and_respond(user_input):\n",
    "    # Apply substitution rules\n",
    "    for pattern, replacement in substitutions:\n",
    "        match = re.search(pattern, user_input)\n",
    "        if match:\n",
    "            response = re.sub(pattern, replacement, user_input)\n",
    "            return response.capitalize() + \"?\"\n",
    "    # Return a default response if no substitutions match\n",
    "    import random\n",
    "    return random.choice(default_responses)"
   ]
  },
  {
   "cell_type": "code",
   "execution_count": 4,
   "metadata": {},
   "outputs": [],
   "source": [
    "# Main chat loop\n",
    "def eliza_fitness_chatbot():\n",
    "    print(\"Hello! I'm your fitness coach. How can I help you today?\")\n",
    "    while True:\n",
    "        user_input = input(\":> \").strip()\n",
    "        if user_input.lower() in [\"exit\", \"quit\", \"bye\"]:\n",
    "            print(\"Take care! Stay healthy and active!\")\n",
    "            break\n",
    "        response = substitute_and_respond(user_input)\n",
    "        print(response)"
   ]
  },
  {
   "cell_type": "code",
   "execution_count": 5,
   "metadata": {},
   "outputs": [
    {
     "name": "stdout",
     "output_type": "stream",
     "text": [
      "Hello! I'm your fitness coach. How can I help you today?\n",
      "How do you feel about that?\n",
      "Could you elaborate on that?\n",
      "What makes you think you can stay consistent?\n",
      "I what kind of {1} are you interested in regularly?\n",
      "How do you feel about that?\n",
      "How do you feel about that?\n",
      "Take care! Stay healthy and active!\n"
     ]
    }
   ],
   "source": [
    "# Run the chatbot\n",
    "if __name__ == \"__main__\":\n",
    "    eliza_fitness_chatbot()\n",
    "\n"
   ]
  },
  {
   "cell_type": "code",
   "execution_count": null,
   "metadata": {},
   "outputs": [],
   "source": []
  }
 ],
 "metadata": {
  "kernelspec": {
   "display_name": "Python (myenv)",
   "language": "python",
   "name": "myenv"
  },
  "language_info": {
   "codemirror_mode": {
    "name": "ipython",
    "version": 3
   },
   "file_extension": ".py",
   "mimetype": "text/x-python",
   "name": "python",
   "nbconvert_exporter": "python",
   "pygments_lexer": "ipython3",
   "version": "3.11.4"
  }
 },
 "nbformat": 4,
 "nbformat_minor": 2
}
