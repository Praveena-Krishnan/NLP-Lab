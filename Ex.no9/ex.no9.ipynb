{
 "cells": [
  {
   "cell_type": "code",
   "execution_count": 1,
   "metadata": {},
   "outputs": [
    {
     "name": "stderr",
     "output_type": "stream",
     "text": [
      "[nltk_data] Downloading package gutenberg to\n",
      "[nltk_data]     C:\\Users\\Praveena\\AppData\\Roaming\\nltk_data...\n",
      "[nltk_data]   Package gutenberg is already up-to-date!\n",
      "[nltk_data] Downloading package punkt to\n",
      "[nltk_data]     C:\\Users\\Praveena\\AppData\\Roaming\\nltk_data...\n",
      "[nltk_data]   Package punkt is already up-to-date!\n"
     ]
    },
    {
     "name": "stdout",
     "output_type": "stream",
     "text": [
      "Top 10 Bigrams:\n",
      "('i', 'am')\n",
      "('had', 'been')\n",
      "('to', 'be')\n",
      "('frank', 'churchill')\n",
      "('it', 'was')\n",
      "('miss', 'woodhouse')\n",
      "('have', 'been')\n",
      "('could', 'not')\n",
      "('any', 'thing')\n",
      "('my', 'dear')\n",
      "\n",
      "Top 10 Trigrams:\n",
      "('i', 'am', 'not')\n",
      "('i', 'am', 'sure')\n",
      "('the', 'sort', 'of')\n",
      "('the', 'whole', 'of')\n",
      "('the', 'subject', 'of')\n",
      "('the', 'rest', 'of')\n",
      "('the', 'idea', 'of')\n",
      "('the', 'part', 'of')\n",
      "('the', 'evening', 'of')\n",
      "('the', 'degree', 'of')\n"
     ]
    }
   ],
   "source": [
    "import nltk\n",
    "from nltk.corpus import gutenberg\n",
    "from nltk.collocations import BigramCollocationFinder, TrigramCollocationFinder\n",
    "from nltk.metrics import BigramAssocMeasures, TrigramAssocMeasures\n",
    "\n",
    "# Download necessary nltk data\n",
    "nltk.download('gutenberg')\n",
    "nltk.download('punkt')\n",
    "\n",
    "# Load sample corpus data\n",
    "corpus = gutenberg.raw('austen-emma.txt')  # Jane Austen's \"Emma\"\n",
    "\n",
    "# Tokenize the corpus into words\n",
    "tokens = nltk.word_tokenize(corpus)\n",
    "\n",
    "# Filter tokens to remove punctuation and lowercase\n",
    "filtered_tokens = [word.lower() for word in tokens if word.isalpha()]\n",
    "\n",
    "# Create a BigramCollocationFinder\n",
    "bigram_finder = BigramCollocationFinder.from_words(filtered_tokens)\n",
    "bigram_finder.apply_freq_filter(5)  # Filter out bigrams that occur less than 5 times\n",
    "\n",
    "# Extract top 10 bigrams based on their likelihood ratio\n",
    "top_bigrams = bigram_finder.nbest(BigramAssocMeasures.likelihood_ratio, 10)\n",
    "\n",
    "# Create a TrigramCollocationFinder\n",
    "trigram_finder = TrigramCollocationFinder.from_words(filtered_tokens)\n",
    "trigram_finder.apply_freq_filter(3)  # Filter out trigrams that occur less than 3 times\n",
    "\n",
    "# Extract top 10 trigrams based on their likelihood ratio\n",
    "top_trigrams = trigram_finder.nbest(TrigramAssocMeasures.likelihood_ratio, 10)\n",
    "\n",
    "# Print results\n",
    "print(\"Top 10 Bigrams:\")\n",
    "for bigram in top_bigrams:\n",
    "    print(bigram)\n",
    "\n",
    "print(\"\\nTop 10 Trigrams:\")\n",
    "for trigram in top_trigrams:\n",
    "    print(trigram)\n"
   ]
  }
 ],
 "metadata": {
  "kernelspec": {
   "display_name": "Python (myenv)",
   "language": "python",
   "name": "myenv"
  },
  "language_info": {
   "codemirror_mode": {
    "name": "ipython",
    "version": 3
   },
   "file_extension": ".py",
   "mimetype": "text/x-python",
   "name": "python",
   "nbconvert_exporter": "python",
   "pygments_lexer": "ipython3",
   "version": "3.11.4"
  }
 },
 "nbformat": 4,
 "nbformat_minor": 2
}
